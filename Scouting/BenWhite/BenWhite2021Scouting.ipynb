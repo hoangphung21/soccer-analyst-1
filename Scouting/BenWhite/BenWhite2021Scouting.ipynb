{
 "cells": [
  {
   "cell_type": "code",
   "execution_count": 3,
   "id": "15b02f28",
   "metadata": {},
   "outputs": [],
   "source": [
    "from urllib.request import urlopen\n",
    "\n",
    "import matplotlib.pyplot as plt\n",
    "from PIL import Image\n",
    "\n",
    "from mplsoccer import PyPizza, add_image, FontManager"
   ]
  },
  {
   "cell_type": "code",
   "execution_count": 6,
   "id": "3c49ee02",
   "metadata": {},
   "outputs": [],
   "source": [
    "# load some fonts\n",
    "font_normal = FontManager((\"https://github.com/google/fonts/blob/main/apache/roboto/static/\"\n",
    "                           \"Roboto-Regular.ttf?raw=true\"))\n",
    "font_italic = FontManager((\"https://github.com/google/fonts/blob/main/apache/roboto/static/\"\n",
    "                           \"Roboto-Italic.ttf?raw=true\"))\n",
    "font_bold = FontManager((\"https://github.com/google/fonts/blob/main/apache/roboto/static/\"\n",
    "                         \"Roboto-Medium.ttf?raw=true\"))"
   ]
  },
  {
   "cell_type": "code",
   "execution_count": 7,
   "id": "7a7d5fbf",
   "metadata": {},
   "outputs": [],
   "source": [
    "# load image\n",
    "URL = \"https://github.com/andrewRowlinson/mplsoccer-assets/blob/main/fdj_cropped.png?raw=true\"\n",
    "fdj_cropped = Image.open(urlopen(URL))\n"
   ]
  },
  {
   "cell_type": "code",
   "execution_count": 8,
   "id": "14088191",
   "metadata": {},
   "outputs": [],
   "source": []
  },
  {
   "cell_type": "code",
   "execution_count": null,
   "id": "086da37a",
   "metadata": {},
   "outputs": [],
   "source": []
  }
 ],
 "metadata": {
  "kernelspec": {
   "display_name": "Python 3",
   "language": "python",
   "name": "python3"
  },
  "language_info": {
   "codemirror_mode": {
    "name": "ipython",
    "version": 3
   },
   "file_extension": ".py",
   "mimetype": "text/x-python",
   "name": "python",
   "nbconvert_exporter": "python",
   "pygments_lexer": "ipython3",
   "version": "3.8.8"
  }
 },
 "nbformat": 4,
 "nbformat_minor": 5
}
